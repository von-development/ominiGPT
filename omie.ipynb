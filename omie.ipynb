{
 "cells": [
  {
   "cell_type": "markdown",
   "metadata": {},
   "source": [
    "# OmnieGPT\n",
    "\n",
    "OmnieGPT é projetado para auxiliar na recuperação de dados financeiros da API OMIE. As credenciais OMIE (api_key: \"XXXXXXXXXXX\" e api_secret: \"XXXXXXXXX\") já estão configuradas e precisam ser fornecidas nas chamadas API.\n",
    "\n",
    "Você pode especificar a chamada de API desejada e os parâmetros necessários para realizar consultas diretamente. OmniGPT processará e retornará as informações precisas e atualizadas.\n",
    "\n",
    "## Consultas Disponíveis\n",
    "\n",
    "### Listar Contas a Pagar\n",
    "**Descrição:** Retorna a lista de contas a pagar.\n",
    "\n",
    "#### Parâmetros obrigatórios:\n",
    "- **pagina:** Número da página a ser consultada.\n",
    "- **registros_por_pagina:** Número de registros por página.\n",
    "- **apenas_importado_api:** \"S\" para apenas registros importados pela API, \"N\" para todos os registros.\n",
    "\n",
    "#### Parâmetros opcionais:\n",
    "- **ordem_descrescente:** \"S\" para ordem decrescente, \"N\" para ordem crescente (default).\n",
    "- **filtrar_por_data_de:** Data de início do filtro (formato: dd/mm/aaaa).\n",
    "- **filtrar_por_data_ate:** Data de fim do filtro (formato: dd/mm/aaaa).\n",
    "- **filtrar_apenas_inclusao:** \"S\" para filtrar apenas registros incluídos, \"N\" para todos (default).\n",
    "- **filtrar_apenas_alteracao:** \"S\" para filtrar apenas registros alterados, \"N\" para todos (default).\n",
    "- **filtrar_por_emissao_de:** Data de emissão inicial (formato: dd/mm/aaaa).\n",
    "- **filtrar_por_registro_de:** Data de registro inicial (formato: dd/mm/aaaa).\n",
    "- **filtrar_por_emissao_ate:** Data de emissão final (formato: dd/mm/aaaa).\n",
    "- **filtrar_por_registro_ate:** Data de registro final (formato: dd/mm/aaaa).\n",
    "- **filtrar_conta_corrente:** Código da conta corrente.\n",
    "- **filtrar_cliente:** Código do cliente.\n",
    "- **filtrar_por_cpf_cnpj:** CPF/CNPJ do fornecedor (apenas números).\n",
    "- **filtrar_por_status:** Status do título (CANCELADO, PAGO, LIQUIDADO, EMABERTO).\n",
    "- **filtrar_por_projeto:** Código do projeto.\n",
    "- **filtrar_por_vendedor:** Código do vendedor.\n",
    "- **exibir_obs:** \"S\" para exibir observações, \"N\" para não exibir (default)."
   ]
  },
  {
   "cell_type": "markdown",
   "metadata": {},
   "source": [
    "### Exemplo de Consultas (json):"
   ]
  },
  {
   "cell_type": "code",
   "execution_count": null,
   "metadata": {
    "vscode": {
     "languageId": "json"
    }
   },
   "outputs": [],
   "source": [
    "{\n",
    "  \"call\": \"ListarContasPagar\",\n",
    "  \"app_key\": \"XXXXXXXXXX\",\n",
    "  \"app_secret\": \"XXXXXXXXXX\",\n",
    "  \"param\": [\n",
    "    {\n",
    "      \"pagina\": 1,\n",
    "      \"registros_por_pagina\": 20,\n",
    "      \"apenas_importado_api\": \"N\"\n",
    "    }\n",
    "  ]\n",
    "}"
   ]
  },
  {
   "cell_type": "markdown",
   "metadata": {},
   "source": [
    "Listar contas que serão pagas através da conta corrente 4243124.\n",
    "Descrição: Retorna informações de todas as contas associadas à conta corrente especificada."
   ]
  },
  {
   "cell_type": "code",
   "execution_count": null,
   "metadata": {
    "vscode": {
     "languageId": "json"
    }
   },
   "outputs": [],
   "source": [
    "{\n",
    "    \"call\": \"ListarContasPagar\",\n",
    "    \"app_key\": \"xxxxxxxxx\",\n",
    "    \"app_secret\": \"xxxxxxxxx\",\n",
    "    \"param\": [\n",
    "      {\n",
    "        \"pagina\": 1,\n",
    "        \"registros_por_pagina\": 20,\n",
    "        \"apenas_importado_api\": \"N\",\n",
    "        \"filtrar_conta_corrente\": 4243124\n",
    "      }\n",
    "    ]\n",
    "  }\n",
    "  "
   ]
  },
  {
   "cell_type": "markdown",
   "metadata": {},
   "source": [
    "\"Exibir todas as contas emitidas entre 01/07/2024 e 31/07/2024.\"\n",
    "Descrição: Filtra e exibe contas com data de emissão dentro do intervalo especificado.\n",
    "\n"
   ]
  },
  {
   "cell_type": "code",
   "execution_count": null,
   "metadata": {
    "vscode": {
     "languageId": "json"
    }
   },
   "outputs": [],
   "source": [
    "{\n",
    "    \"call\": \"ListarContasPagar\",\n",
    "    \"app_key\": \"xxxxxxxx\",\n",
    "    \"app_secret\": \"xxxxxxxx\",\n",
    "    \"param\": [\n",
    "      {\n",
    "        \"pagina\": 1,\n",
    "        \"registros_por_pagina\": 20,\n",
    "        \"apenas_importado_api\": \"N\",\n",
    "        \"filtrar_por_emissao_de\": \"01/07/2024\",\n",
    "        \"filtrar_por_emissao_ate\": \"31/07/2024\"\n",
    "      }\n",
    "    ]\n",
    "  }\n",
    "  "
   ]
  },
  {
   "cell_type": "markdown",
   "metadata": {},
   "source": [
    "Qual o valor total de impostos retidos em todas as transações desse mês?\"\n",
    "Descrição: Soma os valores retidos como COFINS, CSLL, INSS, IR, ISS e PIS no mês atual."
   ]
  },
  {
   "cell_type": "code",
   "execution_count": null,
   "metadata": {
    "vscode": {
     "languageId": "json"
    }
   },
   "outputs": [],
   "source": [
    "{\n",
    "    \"call\": \"ListarContasPagar\",\n",
    "    \"app_key\": \"xxxxxxxx\",\n",
    "    \"app_secret\": \"xxxxxxxx\",\n",
    "    \"param\": [\n",
    "      {\n",
    "        \"pagina\": 1,\n",
    "        \"registros_por_pagina\": 1000,  // Aumentar registros para capturar todos os dados do mês\n",
    "        \"apenas_importado_api\": \"N\",\n",
    "        \"filtrar_por_data_de\": \"01/07/2024\",\n",
    "        \"filtrar_por_data_ate\": \"31/07/2024\"\n",
    "      }\n",
    "    ]\n",
    "  }\n",
    "  "
   ]
  }
 ],
 "metadata": {
  "language_info": {
   "name": "python"
  }
 },
 "nbformat": 4,
 "nbformat_minor": 2
}
